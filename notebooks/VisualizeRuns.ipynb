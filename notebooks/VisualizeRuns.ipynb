{
 "cells": [
  {
   "cell_type": "code",
   "execution_count": 4,
   "metadata": {},
   "outputs": [],
   "source": [
    "import numpy as np\n",
    "import matplotlib.pyplot as plt\n",
    "import json"
   ]
  },
  {
   "cell_type": "markdown",
   "metadata": {},
   "source": [
    "# Define studied plots"
   ]
  },
  {
   "cell_type": "code",
   "execution_count": 67,
   "metadata": {},
   "outputs": [],
   "source": [
    "monitored_runs = [\"../results/LSTMConfig/20180307_214204/\", \n",
    "                  \"../results/LSTMConfig/20180307_224745/\",\n",
    "                  \"../results/BiLSTMConfig/20180308_175823-65f4/\",\n",
    "                  \"../results/LSTMConfig/20180313_160911-82ec/\",\n",
    "                  \"../results/LSTMConfig/20180313_163146-e8b9/\",\n",
    "                  \"../results/BiLSTMConfig/20180313_165245-1b21/\"\n",
    "                 ]\n",
    "\n",
    "labels = [\"base LSTM\", \n",
    "          \"extra layer\",\n",
    "          \"Bi-LSTM initial\",\n",
    "          \"extra layer, learning rate * 10\",\n",
    "          \"extra layer x2, learning rate * 100\",\n",
    "          \"Bi-LSTM, extra layer = 50, learning rate * 10\",]"
   ]
  },
  {
   "cell_type": "code",
   "execution_count": 68,
   "metadata": {},
   "outputs": [],
   "source": [
    "class RunResult(object):\n",
    "    def load_los_file(self, filename):\n",
    "        values = []\n",
    "        with open(self.runpath + filename, 'r') as f:\n",
    "            for l in f:\n",
    "                values.append(float(l.strip()))\n",
    "        return values\n",
    "    \n",
    "    def filenames(self):\n",
    "        return [\"dev_f1.los\", \"dev_losses.los\", \"dev_precision.los\", \"dev_recall.los\",\n",
    "                \"train_f1.los\", \"train_losses.los\", \"train_precision.los\", \"train_recall.los\"]\n",
    "    \n",
    "    def __init__(self, runpath):\n",
    "        self.runpath = runpath\n",
    "        self.results_dic = {}\n",
    "        for filename in self.filenames():\n",
    "            self.results_dic[filename] = self.load_los_file(filename)\n",
    "        with open(self.runpath + \"params.json\") as f:\n",
    "            self.params = json.load(f)"
   ]
  },
  {
   "cell_type": "code",
   "execution_count": 69,
   "metadata": {},
   "outputs": [],
   "source": [
    "all_results = [RunResult(monitored_run) for monitored_run in monitored_runs]"
   ]
  },
  {
   "cell_type": "markdown",
   "metadata": {},
   "source": [
    "# Plots"
   ]
  },
  {
   "cell_type": "markdown",
   "metadata": {},
   "source": [
    "### Train F1 evolution per config"
   ]
  },
  {
   "cell_type": "code",
   "execution_count": null,
   "metadata": {},
   "outputs": [],
   "source": [
    "plt.figure(figsize = (16, 12))\n",
    "\n",
    "for result, label in zip(all_results, labels):    \n",
    "    plt.plot(result.results_dic[\"train_losses.los\"], label = label)\n",
    "\n",
    "plt.xlabel(\"minibatch\")\n",
    "plt.ylabel(\"train loss\")\n",
    "plt.legend()\n",
    "    \n",
    "#plt.ylim((0, 1))\n",
    "plt.show()"
   ]
  },
  {
   "cell_type": "markdown",
   "metadata": {},
   "source": [
    "### Train F1 evolution per config"
   ]
  },
  {
   "cell_type": "code",
   "execution_count": null,
   "metadata": {},
   "outputs": [],
   "source": [
    "plt.figure(figsize = (16, 12))\n",
    "\n",
    "for result, label in zip(all_results, labels):    \n",
    "    plt.plot(result.results_dic[\"train_f1.los\"], label = label)\n",
    "\n",
    "plt.xlabel(\"epoch\")\n",
    "plt.ylabel(\"train F1\")\n",
    "plt.legend(loc=\"upper left\")\n",
    "    \n",
    "plt.ylim((0, 1))\n",
    "plt.show()"
   ]
  },
  {
   "cell_type": "code",
   "execution_count": null,
   "metadata": {},
   "outputs": [],
   "source": []
  }
 ],
 "metadata": {
  "kernelspec": {
   "display_name": "Python 3",
   "language": "python",
   "name": "python3"
  }
 },
 "nbformat": 4,
 "nbformat_minor": 2
}
